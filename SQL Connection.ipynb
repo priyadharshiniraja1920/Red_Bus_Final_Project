{
 "cells": [
  {
   "cell_type": "code",
   "execution_count": 2,
   "metadata": {},
   "outputs": [],
   "source": [
    "import pandas as pd\n",
    "import mysql.connector\n",
    "import numpy as np\n",
    "from mysql.connector import Error"
   ]
  },
  {
   "cell_type": "code",
   "execution_count": 3,
   "metadata": {},
   "outputs": [
    {
     "data": {
      "text/html": [
       "<div>\n",
       "<style scoped>\n",
       "    .dataframe tbody tr th:only-of-type {\n",
       "        vertical-align: middle;\n",
       "    }\n",
       "\n",
       "    .dataframe tbody tr th {\n",
       "        vertical-align: top;\n",
       "    }\n",
       "\n",
       "    .dataframe thead th {\n",
       "        text-align: right;\n",
       "    }\n",
       "</style>\n",
       "<table border=\"1\" class=\"dataframe\">\n",
       "  <thead>\n",
       "    <tr style=\"text-align: right;\">\n",
       "      <th></th>\n",
       "      <th>Bus_name</th>\n",
       "      <th>Bus_type</th>\n",
       "      <th>Start_time</th>\n",
       "      <th>End_time</th>\n",
       "      <th>Total_duration</th>\n",
       "      <th>Price</th>\n",
       "      <th>Seats_Available</th>\n",
       "      <th>Ratings</th>\n",
       "      <th>Route_link</th>\n",
       "      <th>Route_name</th>\n",
       "    </tr>\n",
       "  </thead>\n",
       "  <tbody>\n",
       "    <tr>\n",
       "      <th>0</th>\n",
       "      <td>MMK Travels</td>\n",
       "      <td>A/C Seater / Sleeper (2+1)</td>\n",
       "      <td>22:30</td>\n",
       "      <td>07:30</td>\n",
       "      <td>09h 00m</td>\n",
       "      <td>INR 700</td>\n",
       "      <td>23 Seats available</td>\n",
       "      <td>4.5\\n553</td>\n",
       "      <td>https://www.redbus.in/bus-tickets/bangalore-to...</td>\n",
       "      <td>Bangalore to Kozhikode</td>\n",
       "    </tr>\n",
       "    <tr>\n",
       "      <th>1</th>\n",
       "      <td>DLT BUS</td>\n",
       "      <td>A/C Sleeper (2+1)</td>\n",
       "      <td>22:30</td>\n",
       "      <td>07:30</td>\n",
       "      <td>09h 00m</td>\n",
       "      <td>INR 850</td>\n",
       "      <td>23 Seats available</td>\n",
       "      <td>4.3\\n320</td>\n",
       "      <td>https://www.redbus.in/bus-tickets/bangalore-to...</td>\n",
       "      <td>Bangalore to Kozhikode</td>\n",
       "    </tr>\n",
       "    <tr>\n",
       "      <th>2</th>\n",
       "      <td>SKS Tours &amp; Travels</td>\n",
       "      <td>A/C Sleeper (2+1)</td>\n",
       "      <td>21:15</td>\n",
       "      <td>05:45</td>\n",
       "      <td>08h 30m</td>\n",
       "      <td>INR 899</td>\n",
       "      <td>21 Seats available</td>\n",
       "      <td>4.4\\n107</td>\n",
       "      <td>https://www.redbus.in/bus-tickets/bangalore-to...</td>\n",
       "      <td>Bangalore to Kozhikode</td>\n",
       "    </tr>\n",
       "    <tr>\n",
       "      <th>3</th>\n",
       "      <td>AdSuraj Holidays</td>\n",
       "      <td>VE A/C Sleeper (2+1)</td>\n",
       "      <td>22:30</td>\n",
       "      <td>07:30</td>\n",
       "      <td>09h 00m</td>\n",
       "      <td>INR 880</td>\n",
       "      <td>18 Seats available</td>\n",
       "      <td>3.7\\n266</td>\n",
       "      <td>https://www.redbus.in/bus-tickets/bangalore-to...</td>\n",
       "      <td>Bangalore to Kozhikode</td>\n",
       "    </tr>\n",
       "    <tr>\n",
       "      <th>4</th>\n",
       "      <td>NS Transports</td>\n",
       "      <td>Non A/C Seater / Sleeper (2+1)</td>\n",
       "      <td>21:45</td>\n",
       "      <td>06:10</td>\n",
       "      <td>08h 25m</td>\n",
       "      <td>INR 699</td>\n",
       "      <td>29 Seats available</td>\n",
       "      <td>4.2\\n275</td>\n",
       "      <td>https://www.redbus.in/bus-tickets/bangalore-to...</td>\n",
       "      <td>Bangalore to Kozhikode</td>\n",
       "    </tr>\n",
       "    <tr>\n",
       "      <th>...</th>\n",
       "      <td>...</td>\n",
       "      <td>...</td>\n",
       "      <td>...</td>\n",
       "      <td>...</td>\n",
       "      <td>...</td>\n",
       "      <td>...</td>\n",
       "      <td>...</td>\n",
       "      <td>...</td>\n",
       "      <td>...</td>\n",
       "      <td>...</td>\n",
       "    </tr>\n",
       "    <tr>\n",
       "      <th>2522</th>\n",
       "      <td>SBSTC-DURGAPUR - HABRA - VIA - DUNLOP - 14:05 ...</td>\n",
       "      <td>Non AC Seater (2+3)</td>\n",
       "      <td>14:05</td>\n",
       "      <td>17:35</td>\n",
       "      <td>03h 30m</td>\n",
       "      <td>INR 155</td>\n",
       "      <td>39 Seats available</td>\n",
       "      <td>3.8\\n62</td>\n",
       "      <td>https://www.redbus.in/bus-tickets/durgapur-to-...</td>\n",
       "      <td>Durgapur (West Bengal) to Barasat (West Bengal)</td>\n",
       "    </tr>\n",
       "    <tr>\n",
       "      <th>2523</th>\n",
       "      <td>WBTC (CTC) Habra - Barasat - Durgapur - Asanso...</td>\n",
       "      <td>Non AC Seater (2+3)</td>\n",
       "      <td>14:25</td>\n",
       "      <td>17:25</td>\n",
       "      <td>03h 00m</td>\n",
       "      <td>INR 147</td>\n",
       "      <td>43 Seats available</td>\n",
       "      <td>3.9\\n59</td>\n",
       "      <td>https://www.redbus.in/bus-tickets/durgapur-to-...</td>\n",
       "      <td>Durgapur (West Bengal) to Barasat (West Bengal)</td>\n",
       "    </tr>\n",
       "    <tr>\n",
       "      <th>2524</th>\n",
       "      <td>City Queen Bus Service</td>\n",
       "      <td>Non AC Seater (2+2)</td>\n",
       "      <td>21:30</td>\n",
       "      <td>07:30</td>\n",
       "      <td>10h 00m</td>\n",
       "      <td>INR 285</td>\n",
       "      <td>18 Seats available</td>\n",
       "      <td>2.2\\n51</td>\n",
       "      <td>https://www.redbus.in/bus-tickets/kolkata-to-p...</td>\n",
       "      <td>Kolkata to Purulia</td>\n",
       "    </tr>\n",
       "    <tr>\n",
       "      <th>2525</th>\n",
       "      <td>City Queen Bus Service</td>\n",
       "      <td>Non AC Seater (2+2)</td>\n",
       "      <td>20:50</td>\n",
       "      <td>05:00</td>\n",
       "      <td>08h 10m</td>\n",
       "      <td>INR 250</td>\n",
       "      <td>14 Seats available</td>\n",
       "      <td>2.2\\n32</td>\n",
       "      <td>https://www.redbus.in/bus-tickets/kolkata-to-p...</td>\n",
       "      <td>Kolkata to Purulia</td>\n",
       "    </tr>\n",
       "    <tr>\n",
       "      <th>2526</th>\n",
       "      <td>WBTC (CTC) HABRA-DIGHA via Bally - 26|12:45</td>\n",
       "      <td>Non AC Seater (2+3)</td>\n",
       "      <td>12:45</td>\n",
       "      <td>15:40</td>\n",
       "      <td>02h 55m</td>\n",
       "      <td>INR 87</td>\n",
       "      <td>37 Seats available</td>\n",
       "      <td>4.7</td>\n",
       "      <td>https://www.redbus.in/bus-tickets/habra-to-kol...</td>\n",
       "      <td>Habra to Kolaghat</td>\n",
       "    </tr>\n",
       "  </tbody>\n",
       "</table>\n",
       "<p>2527 rows × 10 columns</p>\n",
       "</div>"
      ],
      "text/plain": [
       "                                               Bus_name  \\\n",
       "0                                           MMK Travels   \n",
       "1                                               DLT BUS   \n",
       "2                                   SKS Tours & Travels   \n",
       "3                                      AdSuraj Holidays   \n",
       "4                                         NS Transports   \n",
       "...                                                 ...   \n",
       "2522  SBSTC-DURGAPUR - HABRA - VIA - DUNLOP - 14:05 ...   \n",
       "2523  WBTC (CTC) Habra - Barasat - Durgapur - Asanso...   \n",
       "2524                             City Queen Bus Service   \n",
       "2525                             City Queen Bus Service   \n",
       "2526        WBTC (CTC) HABRA-DIGHA via Bally - 26|12:45   \n",
       "\n",
       "                            Bus_type Start_time End_time Total_duration  \\\n",
       "0         A/C Seater / Sleeper (2+1)      22:30    07:30        09h 00m   \n",
       "1                  A/C Sleeper (2+1)      22:30    07:30        09h 00m   \n",
       "2                  A/C Sleeper (2+1)      21:15    05:45        08h 30m   \n",
       "3               VE A/C Sleeper (2+1)      22:30    07:30        09h 00m   \n",
       "4     Non A/C Seater / Sleeper (2+1)      21:45    06:10        08h 25m   \n",
       "...                              ...        ...      ...            ...   \n",
       "2522             Non AC Seater (2+3)      14:05    17:35        03h 30m   \n",
       "2523             Non AC Seater (2+3)      14:25    17:25        03h 00m   \n",
       "2524             Non AC Seater (2+2)      21:30    07:30        10h 00m   \n",
       "2525             Non AC Seater (2+2)      20:50    05:00        08h 10m   \n",
       "2526             Non AC Seater (2+3)      12:45    15:40        02h 55m   \n",
       "\n",
       "        Price     Seats_Available   Ratings  \\\n",
       "0     INR 700  23 Seats available  4.5\\n553   \n",
       "1     INR 850  23 Seats available  4.3\\n320   \n",
       "2     INR 899  21 Seats available  4.4\\n107   \n",
       "3     INR 880  18 Seats available  3.7\\n266   \n",
       "4     INR 699  29 Seats available  4.2\\n275   \n",
       "...       ...                 ...       ...   \n",
       "2522  INR 155  39 Seats available   3.8\\n62   \n",
       "2523  INR 147  43 Seats available   3.9\\n59   \n",
       "2524  INR 285  18 Seats available   2.2\\n51   \n",
       "2525  INR 250  14 Seats available   2.2\\n32   \n",
       "2526   INR 87  37 Seats available       4.7   \n",
       "\n",
       "                                             Route_link  \\\n",
       "0     https://www.redbus.in/bus-tickets/bangalore-to...   \n",
       "1     https://www.redbus.in/bus-tickets/bangalore-to...   \n",
       "2     https://www.redbus.in/bus-tickets/bangalore-to...   \n",
       "3     https://www.redbus.in/bus-tickets/bangalore-to...   \n",
       "4     https://www.redbus.in/bus-tickets/bangalore-to...   \n",
       "...                                                 ...   \n",
       "2522  https://www.redbus.in/bus-tickets/durgapur-to-...   \n",
       "2523  https://www.redbus.in/bus-tickets/durgapur-to-...   \n",
       "2524  https://www.redbus.in/bus-tickets/kolkata-to-p...   \n",
       "2525  https://www.redbus.in/bus-tickets/kolkata-to-p...   \n",
       "2526  https://www.redbus.in/bus-tickets/habra-to-kol...   \n",
       "\n",
       "                                           Route_name  \n",
       "0                              Bangalore to Kozhikode  \n",
       "1                              Bangalore to Kozhikode  \n",
       "2                              Bangalore to Kozhikode  \n",
       "3                              Bangalore to Kozhikode  \n",
       "4                              Bangalore to Kozhikode  \n",
       "...                                               ...  \n",
       "2522  Durgapur (West Bengal) to Barasat (West Bengal)  \n",
       "2523  Durgapur (West Bengal) to Barasat (West Bengal)  \n",
       "2524                               Kolkata to Purulia  \n",
       "2525                               Kolkata to Purulia  \n",
       "2526                                Habra to Kolaghat  \n",
       "\n",
       "[2527 rows x 10 columns]"
      ]
     },
     "execution_count": 3,
     "metadata": {},
     "output_type": "execute_result"
    }
   ],
   "source": [
    "# csv to dataframe\n",
    "df_buses_1=pd.read_csv(r\"df_buses_1.csv\")\n",
    "df_buses_2=pd.read_csv(r\"df_buses_2.csv\")\n",
    "df_buses_3=pd.read_csv(r\"df_buses_3.csv\")\n",
    "df_buses_4=pd.read_csv(r\"df_buses_4.csv\")\n",
    "df_buses_5=pd.read_csv(r\"df_buses_R.csv\")\n",
    "df_buses_6=pd.read_csv(r\"df_buses_SB.csv\")\n",
    "df_buses_7=pd.read_csv(r\"df_buses_H.csv\")\n",
    "df_buses_8=pd.read_csv(r\"df_buses_AS.csv\")\n",
    "df_buses_9=pd.read_csv(r\"df_buses_9.csv\")\n",
    "df_buses_10=pd.read_csv(r\"df_buses_10.csv\")\n",
    "\n",
    "Final_df=pd.concat([df_buses_1,df_buses_2,df_buses_3,df_buses_4,df_buses_5,df_buses_6,\n",
    "                    df_buses_7,df_buses_8,df_buses_9,df_buses_10],ignore_index=True)\n",
    "Final_df"
   ]
  },
  {
   "cell_type": "markdown",
   "metadata": {},
   "source": [
    "\n",
    "## Data cleaning"
   ]
  },
  {
   "cell_type": "code",
   "execution_count": 4,
   "metadata": {},
   "outputs": [
    {
     "name": "stdout",
     "output_type": "stream",
     "text": [
      "<class 'pandas.core.frame.DataFrame'>\n",
      "RangeIndex: 2527 entries, 0 to 2526\n",
      "Data columns (total 10 columns):\n",
      " #   Column           Non-Null Count  Dtype \n",
      "---  ------           --------------  ----- \n",
      " 0   Bus_name         2527 non-null   object\n",
      " 1   Bus_type         2527 non-null   object\n",
      " 2   Start_time       2527 non-null   object\n",
      " 3   End_time         2527 non-null   object\n",
      " 4   Total_duration   2527 non-null   object\n",
      " 5   Price            2527 non-null   object\n",
      " 6   Seats_Available  2527 non-null   object\n",
      " 7   Ratings          2527 non-null   object\n",
      " 8   Route_link       2527 non-null   object\n",
      " 9   Route_name       2527 non-null   object\n",
      "dtypes: object(10)\n",
      "memory usage: 197.6+ KB\n"
     ]
    }
   ],
   "source": [
    "# data about the data\n",
    "Final_df.info()"
   ]
  },
  {
   "cell_type": "code",
   "execution_count": 5,
   "metadata": {},
   "outputs": [
    {
     "data": {
      "text/plain": [
       "0       700.0\n",
       "1       850.0\n",
       "2       899.0\n",
       "3       880.0\n",
       "4       699.0\n",
       "        ...  \n",
       "2522    155.0\n",
       "2523    147.0\n",
       "2524    285.0\n",
       "2525    250.0\n",
       "2526     87.0\n",
       "Name: Price, Length: 2527, dtype: float64"
      ]
     },
     "execution_count": 5,
     "metadata": {},
     "output_type": "execute_result"
    }
   ],
   "source": [
    "#convert prices to numeric\n",
    "Final_df[\"Price\"]=Final_df[\"Price\"].str.replace(\"INR\",\"\")\n",
    "Final_df[\"Price\"]=Final_df[\"Price\"].astype(float)\n",
    "Final_df[\"Price\"].fillna(0) "
   ]
  },
  {
   "cell_type": "code",
   "execution_count": 6,
   "metadata": {},
   "outputs": [
    {
     "name": "stderr",
     "output_type": "stream",
     "text": [
      "C:\\Users\\PRIYA\\AppData\\Local\\Temp\\ipykernel_11580\\709375803.py:6: FutureWarning: A value is trying to be set on a copy of a DataFrame or Series through chained assignment using an inplace method.\n",
      "The behavior will change in pandas 3.0. This inplace method will never work because the intermediate object on which we are setting values always behaves as a copy.\n",
      "\n",
      "For example, when doing 'df[col].method(value, inplace=True)', try using 'df.method({col: value}, inplace=True)' or df[col] = df[col].method(value) instead, to perform the operation inplace on the original object.\n",
      "\n",
      "\n",
      "  Final_df[\"Ratings\"].fillna(0,inplace=True)\n"
     ]
    }
   ],
   "source": [
    "#convert Ratings to numeric\n",
    "Final_df[\"Ratings\"]=Final_df[\"Ratings\"].str.replace(\"New\",\"\")\n",
    "Final_df[\"Ratings\"]=Final_df[\"Ratings\"].str.strip()\n",
    "Final_df[\"Ratings\"]=Final_df[\"Ratings\"].str.split().str[0]\n",
    "Final_df[\"Ratings\"] = pd.to_numeric(Final_df[\"Ratings\"], errors='coerce')\n",
    "Final_df[\"Ratings\"].fillna(0,inplace=True) "
   ]
  },
  {
   "cell_type": "code",
   "execution_count": 7,
   "metadata": {},
   "outputs": [
    {
     "name": "stdout",
     "output_type": "stream",
     "text": [
      "<class 'pandas.core.frame.DataFrame'>\n",
      "RangeIndex: 2527 entries, 0 to 2526\n",
      "Data columns (total 10 columns):\n",
      " #   Column           Non-Null Count  Dtype  \n",
      "---  ------           --------------  -----  \n",
      " 0   Bus_name         2527 non-null   object \n",
      " 1   Bus_type         2527 non-null   object \n",
      " 2   Start_time       2527 non-null   object \n",
      " 3   End_time         2527 non-null   object \n",
      " 4   Total_duration   2527 non-null   object \n",
      " 5   Price            2527 non-null   float64\n",
      " 6   Seats_Available  2527 non-null   object \n",
      " 7   Ratings          2527 non-null   float64\n",
      " 8   Route_link       2527 non-null   object \n",
      " 9   Route_name       2527 non-null   object \n",
      "dtypes: float64(2), object(8)\n",
      "memory usage: 197.6+ KB\n"
     ]
    }
   ],
   "source": [
    "\n",
    "# info after the data type change\n",
    "Final_df.info()\n"
   ]
  },
  {
   "cell_type": "code",
   "execution_count": 8,
   "metadata": {},
   "outputs": [],
   "source": [
    "Final_df = Final_df[Final_df[\"Price\"] <= 7000]"
   ]
  },
  {
   "cell_type": "code",
   "execution_count": 9,
   "metadata": {},
   "outputs": [],
   "source": [
    "# replacing the nan value\n",
    "Final_df = Final_df.replace({np.nan: None})"
   ]
  },
  {
   "cell_type": "code",
   "execution_count": 10,
   "metadata": {},
   "outputs": [],
   "source": [
    "# change dataframe to csv\n",
    "path=r\"C:/Users/PRIYA/OneDrive/Desktop/Captsone_Project/New folder/Final_busdetails_df.csv\"\n",
    "Final_df.to_csv(path,index=False)"
   ]
  },
  {
   "cell_type": "markdown",
   "metadata": {},
   "source": [
    "## Create a mysql database"
   ]
  },
  {
   "cell_type": "code",
   "execution_count": 11,
   "metadata": {},
   "outputs": [],
   "source": [
    "import mysql.connector "
   ]
  },
  {
   "cell_type": "code",
   "execution_count": 12,
   "metadata": {},
   "outputs": [],
   "source": [
    "conn=mysql.connector.connect(host=\"localhost\", user=\"root\", password=\"123456789\")\n",
    "my_cursor = conn.cursor()\n",
    "my_cursor.execute(\"CREATE DATABASE IF NOT EXISTS RED_BUS_DETAILS\")"
   ]
  },
  {
   "cell_type": "code",
   "execution_count": 13,
   "metadata": {},
   "outputs": [
    {
     "name": "stdout",
     "output_type": "stream",
     "text": [
      "Connected to the 'RED_BUS_DETAILS' database\n",
      "Table Created successfully\n"
     ]
    }
   ],
   "source": [
    "try:\n",
    "    conn = mysql.connector.connect(\n",
    "        host=\"localhost\",\n",
    "        user=\"root\",\n",
    "        password=\"123456789\",\n",
    "        database=\"RED_BUS_DETAILS\"\n",
    "    )\n",
    "    if conn.is_connected():\n",
    "        print(\"Connected to the 'RED_BUS_DETAILS' database\")\n",
    "\n",
    "    my_cursor = conn.cursor()\n",
    "    \n",
    "    my_cursor.execute('''CREATE TABLE IF NOT EXISTS bus_details(\n",
    "                  ID INT AUTO_INCREMENT PRIMARY KEY,\n",
    "                  Bus_name VARCHAR(255) NOT NULL,\n",
    "                  Bus_type VARCHAR(255) NOT NULL,\n",
    "                  Start_time VARCHAR(255) NOT NULL,\n",
    "                  End_time VARCHAR(255) NOT NULL,\n",
    "                  Total_duration VARCHAR(255) NOT NULL,\n",
    "                  Price FLOAT NULL,\n",
    "                  Seats_Available VARCHAR(255) NOT NULL,\n",
    "                  Ratings Float NULL,\n",
    "                  Route_link VARCHAR(255) NULL,\n",
    "                  Route_name VARCHAR(255) NULL\n",
    "                  )''')\n",
    "    print(\"Table Created successfully\")\n",
    "\n",
    "\n",
    "except Error as e:\n",
    "    print(f\"Error: {e}\")"
   ]
  },
  {
   "cell_type": "code",
   "execution_count": 14,
   "metadata": {},
   "outputs": [
    {
     "name": "stdout",
     "output_type": "stream",
     "text": [
      "Values inserted successfully\n"
     ]
    }
   ],
   "source": [
    "insert_query = '''INSERT INTO bus_details(\n",
    "                    Bus_name,\n",
    "                    Bus_type,\n",
    "                    Start_time,\n",
    "                    End_time,\n",
    "                    Total_duration,\n",
    "                    Price,\n",
    "                    Seats_Available,\n",
    "                    Ratings,\n",
    "                    Route_link,\n",
    "                    Route_name)\n",
    "                  VALUES(%s, %s, %s, %s, %s, %s, %s, %s, %s, %s)'''\n",
    "data = Final_df.values.tolist()\n",
    "\n",
    "my_cursor.executemany(insert_query, data)\n",
    "\n",
    "conn.commit()\n",
    "\n",
    "print(\"Values inserted successfully\")"
   ]
  },
  {
   "cell_type": "code",
   "execution_count": 1,
   "metadata": {},
   "outputs": [
    {
     "name": "stdout",
     "output_type": "stream",
     "text": [
      "Table 'bus_details' dropped successfully.\n",
      "Database 'red_bus_details' dropped successfully.\n"
     ]
    }
   ],
   "source": [
    "import mysql.connector\n",
    "\n",
    "# Establish MySQL connection\n",
    "conn = mysql.connector.connect(\n",
    "    host=\"localhost\",\n",
    "    user=\"root\",\n",
    "    password=\"123456789\",\n",
    "    database=\"red_bus_details\"  # Optional: You can use an existing database\n",
    ")\n",
    "cursor = conn.cursor()\n",
    "\n",
    "# Drop the table\n",
    "try:\n",
    "    cursor.execute(\"DROP TABLE IF EXISTS bus_details\")\n",
    "    print(\"Table 'bus_details' dropped successfully.\")\n",
    "except mysql.connector.Error as err:\n",
    "    print(f\"Error: {err}\")\n",
    "\n",
    "# Drop the database\n",
    "try:\n",
    "    cursor.execute(\"DROP DATABASE IF EXISTS red_bus_details\")\n",
    "    print(\"Database 'red_bus_details' dropped successfully.\")\n",
    "except mysql.connector.Error as err:\n",
    "    print(f\"Error: {err}\")\n",
    "\n",
    "# Close the cursor and connection\n",
    "cursor.close()\n",
    "conn.close()"
   ]
  },
  {
   "cell_type": "code",
   "execution_count": null,
   "metadata": {},
   "outputs": [],
   "source": []
  }
 ],
 "metadata": {
  "kernelspec": {
   "display_name": "Guvi1",
   "language": "python",
   "name": "python3"
  },
  "language_info": {
   "codemirror_mode": {
    "name": "ipython",
    "version": 3
   },
   "file_extension": ".py",
   "mimetype": "text/x-python",
   "name": "python",
   "nbconvert_exporter": "python",
   "pygments_lexer": "ipython3",
   "version": "3.11.8"
  }
 },
 "nbformat": 4,
 "nbformat_minor": 2
}
